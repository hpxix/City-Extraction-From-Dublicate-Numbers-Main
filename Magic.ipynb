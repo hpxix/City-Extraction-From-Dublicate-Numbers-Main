{
 "cells": [
  {
   "cell_type": "code",
   "execution_count": 12,
   "metadata": {},
   "outputs": [],
   "source": [
    "import pandas as pd\n",
    "import json\n",
    "import re"
   ]
  },
  {
   "cell_type": "code",
   "execution_count": 13,
   "metadata": {},
   "outputs": [],
   "source": [
    "# Read both sheets of the Excel file\n",
    "df_duplicated = pd.read_excel(\"chats.298.xlsx\", sheet_name=\"Input\")\n",
    "df_numbers = pd.read_excel(\"chats.298.xlsx\", sheet_name=\"Output\")\n"
   ]
  },
  {
   "cell_type": "code",
   "execution_count": 14,
   "metadata": {},
   "outputs": [],
   "source": [
    "with open(\"city.json\", \"r\", encoding=\"utf-8\") as json_file:\n",
    "    target_ids = json.load(json_file)\n"
   ]
  },
  {
   "cell_type": "code",
   "execution_count": 15,
   "metadata": {},
   "outputs": [],
   "source": [
    "city_names_ar = [city[\"label\"] for city in target_ids]\n",
    "city_names_en = [city[\"value\"] for city in target_ids]\n",
    "city_patterns_ar = re.compile(\n",
    "    '|'.join(map(re.escape, city_names_ar)), re.IGNORECASE)\n",
    "city_patterns_en = re.compile(\n",
    "    '|'.join(map(re.escape, city_names_en)), re.IGNORECASE)\n"
   ]
  },
  {
   "cell_type": "code",
   "execution_count": 16,
   "metadata": {},
   "outputs": [],
   "source": [
    "def extract_cities(chat_content):\n",
    "    matched_cities_ar = city_patterns_ar.findall(chat_content)\n",
    "    matched_cities_en = city_patterns_en.findall(chat_content)\n",
    "    chat_cities = matched_cities_ar + matched_cities_en\n",
    "    return chat_cities"
   ]
  },
  {
   "cell_type": "code",
   "execution_count": 17,
   "metadata": {},
   "outputs": [],
   "source": [
    "extracted_cities_dict = {}\n"
   ]
  },
  {
   "cell_type": "code",
   "execution_count": 18,
   "metadata": {},
   "outputs": [],
   "source": [
    "for number in df_duplicated['mobile2']:\n",
    "    if number not in extracted_cities_dict:\n",
    "        extracted_cities = []\n",
    "\n",
    "        # Iterate through chat contents associated with the current phone number\n",
    "        # Iterate through chat contents in the 'content' column of 'df_duplicated'\n",
    "        # that are associated with the current phone number.\n",
    "        for chat_content in df_duplicated[df_duplicated['mobile2'] == number]['content']:\n",
    "            if isinstance(chat_content, str):\n",
    "                extracted_cities.extend(extract_cities(chat_content))\n",
    "        extracted_cities_dict[number] = extracted_cities\n"
   ]
  },
  {
   "cell_type": "code",
   "execution_count": 19,
   "metadata": {},
   "outputs": [],
   "source": [
    "new_data = []\n"
   ]
  },
  {
   "cell_type": "code",
   "execution_count": 20,
   "metadata": {},
   "outputs": [],
   "source": [
    "for number in df_numbers['Mobile2']:\n",
    "    if number not in extracted_cities_dict:\n",
    "        new_data.append([number, ''])\n",
    "    else:\n",
    "        cities = extracted_cities_dict[number]\n",
    "        new_data.append([number, ', '.join(cities)])\n",
    "\n"
   ]
  },
  {
   "cell_type": "code",
   "execution_count": 21,
   "metadata": {},
   "outputs": [],
   "source": [
    "new_df = pd.DataFrame(new_data, columns=['Mobile2', 'City'])"
   ]
  },
  {
   "cell_type": "code",
   "execution_count": 25,
   "metadata": {},
   "outputs": [],
   "source": [
    "merged_df = pd.merge(df_numbers, new_df, how='left', left_on='Mobile2', right_on='Mobile2')\n"
   ]
  },
  {
   "cell_type": "code",
   "execution_count": 26,
   "metadata": {},
   "outputs": [],
   "source": [
    "with pd.ExcelWriter(\"chats.298.xlsx\", engine='openpyxl') as writer:\n",
    "    merged_df.to_excel(writer, sheet_name=\"Output\", index=False)\n"
   ]
  }
 ],
 "metadata": {
  "kernelspec": {
   "display_name": "Python 3",
   "language": "python",
   "name": "python3"
  },
  "language_info": {
   "codemirror_mode": {
    "name": "ipython",
    "version": 3
   },
   "file_extension": ".py",
   "mimetype": "text/x-python",
   "name": "python",
   "nbconvert_exporter": "python",
   "pygments_lexer": "ipython3",
   "version": "3.10.5"
  },
  "orig_nbformat": 4
 },
 "nbformat": 4,
 "nbformat_minor": 2
}
